{
 "cells": [
  {
   "cell_type": "code",
   "execution_count": 19,
   "id": "773e3302",
   "metadata": {},
   "outputs": [],
   "source": [
    "import torch\n",
    "import torch.nn as nn\n",
    "import torch.nn.functional as F\n",
    "import torchvision\n",
    "from torchvision import transforms"
   ]
  },
  {
   "cell_type": "code",
   "execution_count": 20,
   "id": "5e2713b6",
   "metadata": {},
   "outputs": [],
   "source": [
    "#定义训练数据\n",
    "training_data = [\n",
    "    (\"The cat ate the fish\".split(), [\"DET\", \"NN\", \"V\", \"DET\", \"NN\"]),\n",
    "    (\"They read that book\".split(), [\"NN\", \"V\", \"DET\", \"NN\"])\n",
    "]\n",
    "#定义测试数据\n",
    "testing_data=[(\"They ate the fish\".split())]"
   ]
  },
  {
   "cell_type": "code",
   "execution_count": 21,
   "id": "cac6d0d8",
   "metadata": {},
   "outputs": [
    {
     "data": {
      "text/plain": [
       "[(['The', 'cat', 'ate', 'the', 'fish'], ['DET', 'NN', 'V', 'DET', 'NN']),\n",
       " (['They', 'read', 'that', 'book'], ['NN', 'V', 'DET', 'NN'])]"
      ]
     },
     "execution_count": 21,
     "metadata": {},
     "output_type": "execute_result"
    }
   ],
   "source": [
    "training_data"
   ]
  },
  {
   "cell_type": "code",
   "execution_count": 22,
   "id": "20d4bf8d",
   "metadata": {},
   "outputs": [
    {
     "name": "stdout",
     "output_type": "stream",
     "text": [
      "{'The': 0, 'cat': 1, 'ate': 2, 'the': 3, 'fish': 4, 'They': 5, 'read': 6, 'that': 7, 'book': 8}\n"
     ]
    }
   ],
   "source": [
    "word_to_ix = {} # 单词的索引字典\n",
    "for sent, tags in training_data:\n",
    "    for word in sent:\n",
    "        if word not in word_to_ix:\n",
    "            word_to_ix[word] = len(word_to_ix)\n",
    "print(word_to_ix)"
   ]
  },
  {
   "cell_type": "code",
   "execution_count": 23,
   "id": "0eefc5ad",
   "metadata": {},
   "outputs": [],
   "source": [
    "tag_to_ix = {\"DET\": 0, \"NN\": 1, \"V\": 2} # 手工设定词性标签数据字典"
   ]
  },
  {
   "cell_type": "code",
   "execution_count": 24,
   "id": "80be0038",
   "metadata": {},
   "outputs": [],
   "source": [
    "class LSTMTagger(nn.Module):\n",
    "    def __init__(self, embedding_dim, hidden_dim, vocab_size, tagset_size):\n",
    "        super(LSTMTagger, self).__init__()\n",
    "        self.hidden_dim = hidden_dim\n",
    "        \n",
    "        ## 这里采用PyTorch的nn.Embedding层，把整数转换为向量，参数为（词总数，每个词的向量长度（\n",
    "        self.word_embeddings = nn.Embedding(vocab_size, embedding_dim)\n",
    "        \n",
    "        self.lstm = nn.LSTM(embedding_dim, hidden_dim)\n",
    "        self.hidden2tag = nn.Linear(hidden_dim, tagset_size)\n",
    "        self.hidden = self.init_hidden()\n",
    "        \n",
    "    # 初始化隐含状态State及C\n",
    "    def init_hidden(self):\n",
    "        return (torch.zeros(1,1,self.hidden_dim),\n",
    "               torch.zeros(1,1,self.hidden_dim))\n",
    "    \n",
    "    def forward(self, sentence):\n",
    "        # 获得词嵌入矩阵embeds\n",
    "        embeds = self.word_embeddings(sentence)\n",
    "        # 按lstm格式，修改embeds的形状\n",
    "        lstm_out, self.hidden = self.lstm(embeds.view(len(sentence),1,-1),self.hidden)\n",
    "        # 修改隐含状态的形状，作为全连接层的输入\n",
    "        tag_space = self.hidden2tag(lstm_out.view(len(sentence),-1))\n",
    "        # 计算每个单词属于各词性的概率\n",
    "        tag_scores = F.log_softmax(tag_space,dim=1)\n",
    "        return tag_scores"
   ]
  },
  {
   "cell_type": "code",
   "execution_count": 25,
   "id": "abdd140c",
   "metadata": {},
   "outputs": [],
   "source": [
    "def prepare_sequence(seq, to_ix):\n",
    "    idxs = [to_ix[w] for w in seq]\n",
    "    tensor = torch.LongTensor(idxs)\n",
    "    return tensor"
   ]
  },
  {
   "cell_type": "code",
   "execution_count": 26,
   "id": "16627720",
   "metadata": {},
   "outputs": [],
   "source": [
    "EMBEDDING_DIM = 10\n",
    "HIDDEN_DIM = 3  #这里等于词性个数\n",
    "\n",
    "model = LSTMTagger(EMBEDDING_DIM, HIDDEN_DIM, len(word_to_ix),len(tag_to_ix))\n",
    "loss_function = nn.NLLLoss()\n",
    "optimizer = torch.optim.SGD(model.parameters(),lr=0.1)"
   ]
  },
  {
   "cell_type": "code",
   "execution_count": 27,
   "id": "b7247419",
   "metadata": {},
   "outputs": [
    {
     "name": "stdout",
     "output_type": "stream",
     "text": [
      "['The', 'cat', 'ate', 'the', 'fish']\n",
      "tensor([0, 1, 2, 3, 4])\n",
      "tensor([[-1.0310, -1.4494, -0.8949],\n",
      "        [-0.9570, -1.4486, -0.9648],\n",
      "        [-0.9494, -1.4988, -0.9426],\n",
      "        [-0.9904, -1.5677, -0.8674],\n",
      "        [-1.2239, -1.5541, -0.7041]], grad_fn=<LogSoftmaxBackward>)\n",
      "torch.return_types.max(\n",
      "values=tensor([-0.8949, -0.9570, -0.9426, -0.8674, -0.7041], grad_fn=<MaxBackward0>),\n",
      "indices=tensor([2, 0, 2, 2, 2]))\n"
     ]
    }
   ],
   "source": [
    "inputs = prepare_sequence(training_data[0][0],word_to_ix)\n",
    "tag_scores = model(inputs)\n",
    "print(training_data[0][0])\n",
    "print(inputs)\n",
    "print(tag_scores)\n",
    "print(torch.max(tag_scores,1))"
   ]
  },
  {
   "cell_type": "code",
   "execution_count": 28,
   "id": "abc52bb7",
   "metadata": {},
   "outputs": [
    {
     "name": "stdout",
     "output_type": "stream",
     "text": [
      "['The', 'cat', 'ate', 'the', 'fish']\n",
      "tensor([[-0.2750, -1.4723, -4.5065],\n",
      "        [-5.3480, -0.0094, -5.3721],\n",
      "        [-3.3353, -2.2446, -0.1527],\n",
      "        [-0.1542, -3.8914, -2.0997],\n",
      "        [-3.8327, -0.1462, -2.1686]], grad_fn=<LogSoftmaxBackward>)\n",
      "torch.return_types.max(\n",
      "values=tensor([-0.2750, -0.0094, -0.1527, -0.1542, -0.1462], grad_fn=<MaxBackward0>),\n",
      "indices=tensor([0, 1, 2, 0, 1]))\n"
     ]
    }
   ],
   "source": [
    "for epoch in range(400): # 我们要训练400次 \n",
    "    for sentence, tags in training_data:\n",
    "        # 清除网络先前的梯度值\n",
    "        model.zero_grad()\n",
    "        #重新初始化隐藏层数据\n",
    "        model.hidden = model.init_hidden()\n",
    "        # 按网络要求的格式处理输入数据和真实标签数据\n",
    "        sentence_in = prepare_sequence(sentence,word_to_ix)\n",
    "        targets = prepare_sequence(tags, tag_to_ix)\n",
    "        # 实例化模型\n",
    "        tag_scores = model(sentence_in)\n",
    "        # 计算损失，反向传递梯度及更新模型参数\n",
    "        loss = loss_function(tag_scores, targets)\n",
    "        loss.backward()\n",
    "        optimizer.step()\n",
    "        \n",
    "        \n",
    "# 查看模型训练的结果\n",
    "inputs = prepare_sequence(training_data[0][0],word_to_ix)\n",
    "tag_scores = model(inputs)\n",
    "print(training_data[0][0])\n",
    "print(tag_scores)\n",
    "print(torch.max(tag_scores,1))"
   ]
  },
  {
   "cell_type": "code",
   "execution_count": 29,
   "id": "56798f6d",
   "metadata": {},
   "outputs": [
    {
     "name": "stdout",
     "output_type": "stream",
     "text": [
      "['They', 'ate', 'the', 'fish']\n",
      "tensor([5, 2, 3, 4])\n",
      "tensor([[-7.3369, -0.0082, -4.8858],\n",
      "        [-3.6112, -2.3159, -0.1343],\n",
      "        [-0.1556, -3.8931, -2.0897],\n",
      "        [-3.8856, -0.1464, -2.1569]], grad_fn=<LogSoftmaxBackward>)\n",
      "torch.return_types.max(\n",
      "values=tensor([-0.0082, -0.1343, -0.1556, -0.1464], grad_fn=<MaxBackward0>),\n",
      "indices=tensor([1, 2, 0, 1]))\n"
     ]
    }
   ],
   "source": [
    "test_inputs = prepare_sequence(testing_data[0], word_to_ix)\n",
    "tag_scores01 = model(test_inputs)\n",
    "print(testing_data[0])\n",
    "print(test_inputs)\n",
    "print(tag_scores01)\n",
    "print(torch.max(tag_scores01,1))"
   ]
  }
 ],
 "metadata": {
  "kernelspec": {
   "display_name": "Python 3",
   "language": "python",
   "name": "python3"
  },
  "language_info": {
   "codemirror_mode": {
    "name": "ipython",
    "version": 3
   },
   "file_extension": ".py",
   "mimetype": "text/x-python",
   "name": "python",
   "nbconvert_exporter": "python",
   "pygments_lexer": "ipython3",
   "version": "3.7.10"
  }
 },
 "nbformat": 4,
 "nbformat_minor": 5
}
