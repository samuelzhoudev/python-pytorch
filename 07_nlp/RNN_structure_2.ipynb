{
 "cells": [
  {
   "cell_type": "code",
   "execution_count": 3,
   "id": "bdb40813",
   "metadata": {},
   "outputs": [],
   "source": [
    "import torch\n",
    "import torch.nn as nn"
   ]
  },
  {
   "cell_type": "code",
   "execution_count": 5,
   "id": "ce65c5f5",
   "metadata": {},
   "outputs": [],
   "source": [
    "rnn = nn.RNN(input_size=10, hidden_size=20, num_layers=2)"
   ]
  },
  {
   "cell_type": "code",
   "execution_count": 6,
   "id": "2c100a9d",
   "metadata": {},
   "outputs": [
    {
     "name": "stdout",
     "output_type": "stream",
     "text": [
      "wih形状torch.Size([20, 10]),whh形状torch.Size([20, 20]),bih形状torch.Size([20])\n"
     ]
    }
   ],
   "source": [
    "print(\"wih形状{},whh形状{},bih形状{}\".format(rnn.weight_ih_l0.shape,\n",
    "                                       rnn.weight_hh_l0.shape,\n",
    "                                       rnn.bias_hh_l0.shape))"
   ]
  },
  {
   "cell_type": "code",
   "execution_count": 7,
   "id": "d3158ba5",
   "metadata": {},
   "outputs": [
    {
     "name": "stdout",
     "output_type": "stream",
     "text": [
      "wih形状torch.Size([20, 20]),whh形状torch.Size([20, 20]),bih形状torch.Size([20])\n"
     ]
    }
   ],
   "source": [
    "print(\"wih形状{},whh形状{},bih形状{}\".format(rnn.weight_ih_l1.shape,\n",
    "                                       rnn.weight_hh_l1.shape,\n",
    "                                       rnn.bias_hh_l1.shape))"
   ]
  },
  {
   "cell_type": "code",
   "execution_count": 9,
   "id": "216aa25b",
   "metadata": {},
   "outputs": [],
   "source": [
    "input=torch.randn(100,32,10)\n",
    "h_0=torch.randn(2,32,20)"
   ]
  },
  {
   "cell_type": "code",
   "execution_count": 10,
   "id": "c158c2fd",
   "metadata": {},
   "outputs": [
    {
     "name": "stdout",
     "output_type": "stream",
     "text": [
      "torch.Size([100, 32, 20]) torch.Size([2, 32, 20])\n"
     ]
    }
   ],
   "source": [
    "output,h_n=rnn(input,h_0)\n",
    "print(output.shape,h_n.shape)"
   ]
  },
  {
   "cell_type": "markdown",
   "id": "dc5b5525",
   "metadata": {},
   "source": [
    "## 单元版RNN实现"
   ]
  },
  {
   "cell_type": "code",
   "execution_count": null,
   "id": "e84f784f",
   "metadata": {},
   "outputs": [],
   "source": [
    "rnn_cell = nn.RNNCell(input_size=10, hidden_size=20)\n",
    "\n",
    "input_cell=torch.randn(100,32,10)\n",
    "\n",
    "h_cell_0=torch.randn(32,20)\n",
    "output = []"
   ]
  },
  {
   "cell_type": "code",
   "execution_count": null,
   "id": "3faf4751",
   "metadata": {},
   "outputs": [],
   "source": [
    "# 手动实现RNN"
   ]
  },
  {
   "cell_type": "code",
   "execution_count": null,
   "id": "10bd6d87",
   "metadata": {},
   "outputs": [],
   "source": [
    "import torch.nn as nn\n",
    "\n",
    "class RNN(nn.Module):\n",
    "    def __init__(self, input_size, hidden_size, output_size):\n",
    "        super(RNN, self).__init__()\n",
    "\n",
    "        self.hidden_size = hidden_size\n",
    "\n",
    "        self.i2h = nn.Linear(input_size + hidden_size, hidden_size)\n",
    "        self.i2o = nn.Linear(input_size + hidden_size, output_size)\n",
    "        self.softmax = nn.LogSoftmax(dim=1)\n",
    "\n",
    "    def forward(self, input, hidden):\n",
    "        combined = torch.cat((input, hidden), 1)\n",
    "        hidden = self.i2h(combined)\n",
    "        output = self.i2o(combined)\n",
    "        output = self.softmax(output)\n",
    "        return output, hidden\n",
    "\n",
    "    def initHidden(self):\n",
    "        return torch.zeros(1, self.hidden_size)\n",
    "\n",
    "n_hidden = 128\n",
    "#rnn = RNN(n_letters, n_hidden, n_categories)"
   ]
  },
  {
   "cell_type": "code",
   "execution_count": 4,
   "id": "301b3c2e",
   "metadata": {},
   "outputs": [],
   "source": [
    "class LSTMTagger(nn.Module):\n",
    "    \n",
    "    def __init__(self, embedding_dim, hidden_dim, vocab_size, tagset_size):\n",
    "        super(LSTMTagger, self).__init__()\n",
    "        self.hidden_dim = hidden_dim\n",
    "        \n",
    "        self.word_embeddings = nn.Embedding(vocab_size, embedding_dim)\n",
    "        \n",
    "        # LSTM以word_embeddings作为输入，输出维度为hidden_dim的隐藏状态值\n",
    "        self.lstm = nn.LSTM(embedding_dim, hidden_dim)\n",
    "        # 线性层将隐藏状态空间映射到标注空间\n",
    "        self.hidden2tag = nn.Linear(hidden_dim, tagset_size)\n",
    "        self.hidden = self.init_hidden()\n",
    "\n",
    "    def init_hidden(self):\n",
    "        # 一开始并没有隐藏状态所以要先初始化一个\n",
    "        #(num_layers, minibatch_size, hidden_dim)\n",
    "        return (torch.zeros(1,1,self.hidden_dim),\n",
    "                torch.zeros(1,1,self.hidden_dim))\n",
    "    \n",
    "    def forward(self, sentence):\n",
    "        embeds = self.word_embeddings(sentence)\n",
    "        lstm_out, self.hidden = self.lstm(\n",
    "            embeds.view(len(sentence), 1, -1), self.hidden)\n",
    "        tag_space = self.hidden2tag(lstm_out.view(len(sentence), -1))\n",
    "        tag_scores = F.log_softmax(tag_space, dim=1)\n",
    "        return tag_scores"
   ]
  }
 ],
 "metadata": {
  "kernelspec": {
   "display_name": "Python 3",
   "language": "python",
   "name": "python3"
  },
  "language_info": {
   "codemirror_mode": {
    "name": "ipython",
    "version": 3
   },
   "file_extension": ".py",
   "mimetype": "text/x-python",
   "name": "python",
   "nbconvert_exporter": "python",
   "pygments_lexer": "ipython3",
   "version": "3.7.10"
  }
 },
 "nbformat": 4,
 "nbformat_minor": 5
}
