{
 "cells": [
  {
   "cell_type": "code",
   "execution_count": 1,
   "id": "17b3bf42",
   "metadata": {},
   "outputs": [
    {
     "name": "stdout",
     "output_type": "stream",
     "text": [
      "[[6.3200e-03 1.8000e+01 2.3100e+00 ... 1.5300e+01 3.9690e+02 4.9800e+00]\n",
      " [2.7310e-02 0.0000e+00 7.0700e+00 ... 1.7800e+01 3.9690e+02 9.1400e+00]\n",
      " [2.7290e-02 0.0000e+00 7.0700e+00 ... 1.7800e+01 3.9283e+02 4.0300e+00]\n",
      " ...\n",
      " [6.0760e-02 0.0000e+00 1.1930e+01 ... 2.1000e+01 3.9690e+02 5.6400e+00]\n",
      " [1.0959e-01 0.0000e+00 1.1930e+01 ... 2.1000e+01 3.9345e+02 6.4800e+00]\n",
      " [4.7410e-02 0.0000e+00 1.1930e+01 ... 2.1000e+01 3.9690e+02 7.8800e+00]]\n",
      "13\n",
      "[[3.5809e-01 0.0000e+00 6.2000e+00 ... 1.7400e+01 3.9170e+02 9.7100e+00]\n",
      " [1.5876e-01 0.0000e+00 1.0810e+01 ... 1.9200e+01 3.7694e+02 9.8800e+00]\n",
      " [1.1329e-01 3.0000e+01 4.9300e+00 ... 1.6600e+01 3.9125e+02 1.1380e+01]\n",
      " ...\n",
      " [1.5098e-01 0.0000e+00 1.0010e+01 ... 1.7800e+01 3.9451e+02 1.0300e+01]\n",
      " [2.2927e-01 0.0000e+00 6.9100e+00 ... 1.7900e+01 3.9274e+02 1.8800e+01]\n",
      " [1.3914e-01 0.0000e+00 4.0500e+00 ... 1.6600e+01 3.9690e+02 1.4690e+01]]\n",
      "404\n"
     ]
    }
   ],
   "source": [
    "from sklearn.datasets import load_boston\n",
    "from sklearn.model_selection import train_test_split \n",
    "import numpy as np\n",
    "import matplotlib.pyplot as plt\n",
    "\n",
    "import torch\n",
    "import torch.nn as nn\n",
    "boston = load_boston()\n",
    "X,y = (boston.data, boston.target)\n",
    "print(X)\n",
    "print(X.shape[1])\n",
    "X_train, X_test, y_train, y_test = train_test_split(X,y,test_size=0.2, random_state=0)\n",
    "num_train = X_train.shape[0]\n",
    "print(X_train)\n",
    "print(num_train)"
   ]
  },
  {
   "cell_type": "code",
   "execution_count": 2,
   "id": "ffd07ec7",
   "metadata": {},
   "outputs": [],
   "source": [
    "#对训练数据进行标准化\n",
    "mean=X_train.mean(axis=0)\n",
    "std=X_train.std(axis=0)"
   ]
  },
  {
   "cell_type": "code",
   "execution_count": 3,
   "id": "de220dc0",
   "metadata": {},
   "outputs": [],
   "source": [
    "X_train -= mean\n",
    "X_train /= std\n",
    "\n",
    "X_test -=mean\n",
    "X_test /=std"
   ]
  },
  {
   "cell_type": "code",
   "execution_count": 4,
   "id": "70bba009",
   "metadata": {},
   "outputs": [
    {
     "data": {
      "text/plain": [
       "tensor([[-0.3726, -0.4996, -0.7049,  ..., -0.4846,  0.3717, -0.4110],\n",
       "        [-0.3971, -0.4996, -0.0449,  ...,  0.3365,  0.2050, -0.3877],\n",
       "        [-0.4027,  0.7712, -0.8868,  ..., -0.8496,  0.3666, -0.1819],\n",
       "        ...,\n",
       "        [-0.3981, -0.4996, -0.1594,  ..., -0.3022,  0.4034, -0.3301],\n",
       "        [-0.3884, -0.4996, -0.6033,  ..., -0.2565,  0.3834,  0.8359],\n",
       "        [-0.3995, -0.4996, -1.0128,  ..., -0.8496,  0.4304,  0.2721]])"
      ]
     },
     "execution_count": 4,
     "metadata": {},
     "output_type": "execute_result"
    }
   ],
   "source": [
    "train_data = torch.from_numpy(X_train)\n",
    "dtype = torch.FloatTensor\n",
    "train_data.type(dtype)"
   ]
  },
  {
   "cell_type": "code",
   "execution_count": 5,
   "id": "ba6adfb4",
   "metadata": {},
   "outputs": [],
   "source": [
    "#实例化模型\n",
    "device = torch.device(\"cuda:0\" if torch.cuda.is_available() else \"cpu\")\n",
    "# #device = torch.device(\"cuda:0\")\n",
    "# #device1 = torch.device(\"cuda:1\")\n",
    "train_data = torch.from_numpy(X_train).float()\n",
    "train_target = torch.from_numpy(y_train).float()\n",
    "test_data = torch.from_numpy(X_test).float()\n",
    "test_target = torch.from_numpy(y_test).float()"
   ]
  },
  {
   "cell_type": "code",
   "execution_count": 6,
   "id": "7e27dca2",
   "metadata": {},
   "outputs": [],
   "source": [
    "net1_overfitting = torch.nn.Sequential(\n",
    "    torch.nn.Linear(13,16),\n",
    "    torch.nn.ReLU(),\n",
    "    torch.nn.Linear(16,32),\n",
    "    torch.nn.ReLU(),\n",
    "    torch.nn.Linear(32,1),\n",
    "    )\n",
    "net2_nb = torch.nn.Sequential(\n",
    "    torch.nn.Linear(13,16),\n",
    "    nn.BatchNorm1d(num_features=16),\n",
    "    torch.nn.ReLU(),\n",
    "    torch.nn.Linear(16,32),\n",
    "    nn.BatchNorm1d(num_features=32),\n",
    "    torch.nn.ReLU(),\n",
    "    torch.nn.Linear(32,1)\n",
    ")\n",
    "\n",
    "net1_nb = torch.nn.Sequential(\n",
    "    torch.nn.Linear(13,8),\n",
    "    nn.BatchNorm1d(num_features=8),\n",
    "    torch.nn.ReLU(),\n",
    "    torch.nn.Linear(8,4),\n",
    "    nn.BatchNorm1d(num_features=4),\n",
    "    torch.nn.ReLU(),\n",
    "    torch.nn.Linear(4,1),\n",
    ")\n",
    "\n",
    "net1_dropped = torch.nn.Sequential(\n",
    "    torch.nn.Linear(13,16),\n",
    "    torch.nn.Dropout(0.5),\n",
    "    torch.nn.ReLU(),\n",
    "    torch.nn.Linear(16,32),\n",
    "    torch.nn.Dropout(0.5),\n",
    "    torch.nn.ReLU(),\n",
    "    torch.nn.Linear(32,1)\n",
    "    \n",
    ")"
   ]
  },
  {
   "cell_type": "code",
   "execution_count": 7,
   "id": "751e2f59",
   "metadata": {},
   "outputs": [],
   "source": [
    "loss_func = torch.nn.MSELoss()\n",
    "optimizer_ofit = torch.optim.Adam(net1_overfitting.parameters(),lr=0.01)\n",
    "optimizer_drop = torch.optim.Adam(net1_dropped.parameters(),lr=0.01)\n",
    "optimizer_nb = torch.optim.Adam(net1_nb.parameters(),lr=0.01)"
   ]
  },
  {
   "cell_type": "code",
   "execution_count": 23,
   "id": "9bf31541",
   "metadata": {},
   "outputs": [],
   "source": [
    "# from tensorboardX import SummaryWriter\n",
    "# writer = SummaryWriter(log_dir='logs')\n",
    "# for epoch in range(200):\n",
    "#     net1_overfitting.train()\n",
    "#     net1_dropped.train()\n",
    "#     net1_nb.train()\n",
    "from tensorboardX import SummaryWriter\n",
    "writer = SummaryWriter(log_dir='logs')\n",
    "for epoch in range(200):\n",
    "    net1_overfitting.train()\n",
    "    net1_dropped.train()\n",
    "    net1_nb.train()\n",
    "\n",
    "#     pred_ofit=  net1_overfitting(train_data)\n",
    "#     pred_drop = net1_dropped(train_data)\n",
    "#     pred_nb = net1_nb(train_data)\n",
    "    \n",
    "#     loss_ofit = loss_func(pred_ofit, train_target)\n",
    "#     loss_drop = loss_func(pred_drop, train_target)\n",
    "#     loss_nb = loss_func(pred_nb, train_target)\n",
    "\n",
    "    pred_ofit = net1_overfitting(train_data)\n",
    "    pred_drop = net1_dropped(train_data)\n",
    "    pred_nb = net1_nb(train_data)\n",
    "    \n",
    "    loss_ofit = loss_func(pred_ofit, train_target)\n",
    "    loss_drop = loss_func(pred_drop, train_target)\n",
    "    loss_nb = loss_func(pred_nb, train_target)\n",
    "    \n",
    "#     optimizer_ofit.zero_grad()\n",
    "#     optimizer_drop.zero_grad()\n",
    "#     optimizer_nb.zero_grad()\n",
    "    \n",
    "#     loss_ofit.backward()\n",
    "#     loss_drop.backward()\n",
    "#     loss_nb.backward()\n",
    "\n",
    "    optimizer_ofit.zero_grad()\n",
    "    optimizer_drop.zero_grad()\n",
    "    optimizer_nb.zero_grad()\n",
    "    \n",
    "    loss_ofit.backward()\n",
    "    loss_drop.backward()\n",
    "    loss_nb.backward()\n",
    "\n",
    "    \n",
    "#     optimizer_ofit.step()\n",
    "#     optimizer_drop.step()\n",
    "#     optimizer_nb.step()\n",
    "#     # 保存loss的数据与epoch数值\n",
    "#     #writer.add_scalar('train_loss', loss_ofit, t)\n",
    "#     writer.add_scalars('train_group_loss',{'trainloss':loss_ofit.item(),'testloss':loss_nb.item()}, epoch)\n",
    "#     # change to eval mode in order to fix drop out effect\n",
    "#     net1_overfitting.eval()\n",
    "#     net1_dropped.eval() \n",
    "#     net1_nb.eval()\n",
    "    \n",
    "    \n",
    "    optimizer_ofit.step()\n",
    "    optimizer_drop.step()\n",
    "    optimizer_nb.step()\n",
    "    writer.add_scalars('train_group_loss', {'trainloss':loss_ofit.item(), 'testloss':loss_nb.item()},epoch)\n",
    "\n",
    "    net1_overfitting.eval()\n",
    "    net1_dropped.eval()\n",
    "    net1_nb.eval()\n",
    "\n",
    "#     test_pred_orig = net1_overfitting(test_data)\n",
    "#     test_pred_drop = net1_dropped(test_data)\n",
    "#     test_pred_nb = net1_nb(test_data)\n",
    "#     orig_loss=loss_func(test_pred_orig, test_target)\n",
    "#     drop_loss=loss_func(test_pred_drop, test_target)\n",
    "#     nb_loss=loss_func(test_pred_nb, test_target)\n",
    "#     #writer.add_scalars('test_nb_loss',{'orig_loss':orig_loss.item(),'nb_loss':nb_loss.item()}, epoch)\n",
    "#     writer.add_scalars('test_group_loss',{'droploss':drop_loss.item(),'origloss':orig_loss.item()}, epoch)\n",
    "\n",
    "    test_pred_orig = net1_overfitting(test_data)\n",
    "    test_pred_drop = net1_dropped(test_data)\n",
    "    test_pred_nb = net1_nb(test_data)\n",
    "    orig_loss = loss_func(test_pred_orig, test_target)\n",
    "    drop_loss = loss_func(test_pred_drop, test_target)\n",
    "    nb_loss = loss_func(test_pred_nb, test_target)\n",
    "    writer.add_scalars('test_group_loss',{'droploss':drop_loss.item(), 'origloss':orig_loss.item()},epoch)"
   ]
  },
  {
   "attachments": {},
   "cell_type": "markdown",
   "id": "302c3811",
   "metadata": {},
   "source": [
    "<table><tr><td><img src=\"./train_group_loss.png\"  /></td>\n",
    "    <td><img src=\"./test_group_loss.png\"  /></td>\n",
    "    </tr></table>"
   ]
  },
  {
   "cell_type": "code",
   "execution_count": 10,
   "id": "93be50da",
   "metadata": {},
   "outputs": [],
   "source": [
    "from tensorboardX import SummaryWriter\n",
    "writer = SummaryWriter(log_dir='logs')\n",
    "for epoch in range(200):\n",
    "    net1_overfitting.train()\n",
    "    net1_dropped.train()\n",
    "    net1_nb.train()\n",
    "    \n",
    "    pred_ofit = net1_overfitting(train_data)\n",
    "    pred_drop = net1_dropped(train_data)\n",
    "    pred_nb = net1_nb(train_data)\n",
    "    \n",
    "    loss_ofit = loss_func(pred_ofit, train_target)\n",
    "    loss_drop = loss_func(pred_drop, train_target)\n",
    "    loss_nb = loss_func(pred_nb, train_target)\n",
    "    \n",
    "    optimizer_ofit.zero_grad()\n",
    "    optimizer_drop.zero_grad()\n",
    "    optimizer_nb.zero_grad()\n",
    "    \n",
    "    loss_ofit.backward()\n",
    "    loss_drop.backward()\n",
    "    loss_nb.backward()\n",
    "    \n",
    "    optimizer_ofit.step()\n",
    "    optimizer_drop.step()\n",
    "    optimizer_nb.step()\n",
    "    # 保存loss的数据与epoch数值\n",
    "    #writer.add_scalar('train_loss', loss_ofit, t)\n",
    "    writer.add_scalars('train_group_loss',{'trainloss':loss_ofit.item(),'testloss':loss_nb.item()}, epoch)\n",
    "    #writer.add_scalars('test_nb_loss',{'orig_loss':orig_loss.item(),'nb_loss':loss_nb.item()}, epoch)"
   ]
  },
  {
   "cell_type": "markdown",
   "id": "584d5e6d",
   "metadata": {},
   "source": [
    "<img src=\"./train_group_loss2.png\"  />"
   ]
  }
 ],
 "metadata": {
  "kernelspec": {
   "display_name": "Python 3",
   "language": "python",
   "name": "python3"
  },
  "language_info": {
   "codemirror_mode": {
    "name": "ipython",
    "version": 3
   },
   "file_extension": ".py",
   "mimetype": "text/x-python",
   "name": "python",
   "nbconvert_exporter": "python",
   "pygments_lexer": "ipython3",
   "version": "3.7.10"
  }
 },
 "nbformat": 4,
 "nbformat_minor": 5
}
