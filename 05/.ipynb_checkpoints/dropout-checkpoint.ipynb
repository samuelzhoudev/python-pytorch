{
 "cells": [
  {
   "cell_type": "code",
   "execution_count": 11,
   "id": "17b3bf42",
   "metadata": {},
   "outputs": [
    {
     "name": "stdout",
     "output_type": "stream",
     "text": [
      "13\n",
      "404\n"
     ]
    }
   ],
   "source": [
    "from sklearn.datasets import load_boston\n",
    "from sklearn.model_selection import train_test_split \n",
    "import numpy as np\n",
    "import matplotlib.pyplot as plt\n",
    "\n",
    "import torch\n",
    "import torch.nn as nn\n",
    "boston = load_boston()\n",
    "X,y = (boston.data, boston.target)\n",
    "print(X.shape[1])\n",
    "X_train, X_test, y_train, y_test = train_test_split(X,y,test_size=0.2, random_state=0)\n",
    "num_train = X_train.shape[0]\n",
    "print(num_train)"
   ]
  },
  {
   "cell_type": "code",
   "execution_count": 8,
   "id": "ffd07ec7",
   "metadata": {},
   "outputs": [],
   "source": [
    "#对训练数据进行标准化\n",
    "mean=X_train.mean(axis=0)\n",
    "std=X_train.std(axis=0)"
   ]
  },
  {
   "cell_type": "code",
   "execution_count": 9,
   "id": "de220dc0",
   "metadata": {},
   "outputs": [],
   "source": [
    "X_train -= mean\n",
    "X_train /= std\n",
    "\n",
    "X_test -=mean\n",
    "X_test /=std"
   ]
  },
  {
   "cell_type": "code",
   "execution_count": 13,
   "id": "70bba009",
   "metadata": {},
   "outputs": [
    {
     "data": {
      "text/plain": [
       "tensor([[3.5809e-01, 0.0000e+00, 6.2000e+00,  ..., 1.7400e+01, 3.9170e+02,\n",
       "         9.7100e+00],\n",
       "        [1.5876e-01, 0.0000e+00, 1.0810e+01,  ..., 1.9200e+01, 3.7694e+02,\n",
       "         9.8800e+00],\n",
       "        [1.1329e-01, 3.0000e+01, 4.9300e+00,  ..., 1.6600e+01, 3.9125e+02,\n",
       "         1.1380e+01],\n",
       "        ...,\n",
       "        [1.5098e-01, 0.0000e+00, 1.0010e+01,  ..., 1.7800e+01, 3.9451e+02,\n",
       "         1.0300e+01],\n",
       "        [2.2927e-01, 0.0000e+00, 6.9100e+00,  ..., 1.7900e+01, 3.9274e+02,\n",
       "         1.8800e+01],\n",
       "        [1.3914e-01, 0.0000e+00, 4.0500e+00,  ..., 1.6600e+01, 3.9690e+02,\n",
       "         1.4690e+01]])"
      ]
     },
     "execution_count": 13,
     "metadata": {},
     "output_type": "execute_result"
    }
   ],
   "source": [
    "train_data = torch.from_numpy(X_train)\n",
    "dtype = torch.FloatTensor\n",
    "train_data.type(dtype)"
   ]
  },
  {
   "cell_type": "code",
   "execution_count": 18,
   "id": "ba6adfb4",
   "metadata": {},
   "outputs": [],
   "source": [
    "#实例化模型\n",
    "device = torch.device(\"cuda:0\" if torch.cuda.is_available() else \"cpu\")\n",
    "# #device = torch.device(\"cuda:0\")\n",
    "# #device1 = torch.device(\"cuda:1\")\n",
    "train_data = torch.from_numpy(X_train).float()\n",
    "train_target = torch.from_numpy(y_train).float()\n",
    "test_data = torch.from_numpy(X_test).float()\n",
    "test_target = torch.from_numpy(y_test).float()"
   ]
  },
  {
   "cell_type": "code",
   "execution_count": 24,
   "id": "7e27dca2",
   "metadata": {},
   "outputs": [],
   "source": [
    "net1_overfitting = torch.nn.Sequential(\n",
    "    torch.nn.Linear(13,16),\n",
    "    torch.nn.ReLU(),\n",
    "    torch.nn.Linear(16,32),\n",
    "    torch.nn.ReLU(),\n",
    "    torch.nn.Linear(32,1),\n",
    "    )\n",
    "net2_nb = torch.nn.Sequential(\n",
    "    torch.nn.Linear(13,16),\n",
    "    nn.BatchNorm1d(num_features=16),\n",
    "    torch.nn.ReLU(),\n",
    "    torch.nn.Linear(16,32),\n",
    "    nn.BatchNorm1d(num_features=32),\n",
    "    torch.nn.ReLU(),\n",
    "    torch.nn.Linear(32,1)\n",
    ")\n",
    "\n",
    "net1_nb = torch.nn.Sequential(\n",
    "    torch.nn.Linear(13,8),\n",
    "    nn.BatchNorm1d(num_features=8),\n",
    "    torch.nn.ReLU(),\n",
    "    torch.nn.Linear(8,4),\n",
    "    nn.BatchNorm1d(num_features=4),\n",
    "    torch.nn.ReLU(),\n",
    "    torch.nn.Linear(4,1),\n",
    ")\n",
    "\n",
    "net1_dropped = torch.nn.Sequential(\n",
    "    torch.nn.Linear(13,16),\n",
    "    torch.nn.Dropout(0.5),\n",
    "    torch.nn.ReLU(),\n",
    "    torch.nn.Linear(16,32),\n",
    "    torch.nn.Dropout(0.5),\n",
    "    torch.nn.ReLU(),\n",
    "    torch.nn.Linear(32,1)\n",
    "    \n",
    ")\n",
    "\n"
   ]
  },
  {
   "cell_type": "code",
   "execution_count": 26,
   "id": "751e2f59",
   "metadata": {},
   "outputs": [],
   "source": [
    "# loss_func = torch.nn.MSELoss()\n",
    "# optimizer_ofit = torch.optim.Adam(net1_overfitting.parameters(), lr=0.01)\n",
    "# optimizer_drop = torch.optim.Adam(net1_dropped.parameters(), lr=0.01)\n",
    "# optimizer_nb = torch.optim.Adam(net1_nb.parameters(), lr=0.01)\n",
    "\n",
    "loss_func = torch.nn.MSELoss()\n",
    "optimizer_ofit = torch.optim.Adam(net1_overfitting.parameters(),lr=0.01)\n",
    "optimizer_drop = torch.optim.Adam(net1_dropped.parameters(),lr=0.01)\n",
    "optimizer_nb = torch.optim.Adam(net1_nb.parameters(),lr=0.01)"
   ]
  }
 ],
 "metadata": {
  "kernelspec": {
   "display_name": "Python 3",
   "language": "python",
   "name": "python3"
  },
  "language_info": {
   "codemirror_mode": {
    "name": "ipython",
    "version": 3
   },
   "file_extension": ".py",
   "mimetype": "text/x-python",
   "name": "python",
   "nbconvert_exporter": "python",
   "pygments_lexer": "ipython3",
   "version": "3.7.10"
  }
 },
 "nbformat": 4,
 "nbformat_minor": 5
}
