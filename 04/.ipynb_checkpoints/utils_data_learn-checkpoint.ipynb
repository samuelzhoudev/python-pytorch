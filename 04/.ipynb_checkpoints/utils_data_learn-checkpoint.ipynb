{
 "cells": [
  {
   "cell_type": "code",
   "execution_count": 32,
   "id": "specialized-badge",
   "metadata": {},
   "outputs": [],
   "source": [
    "# 导入需要的模块\n",
    "import torch\n",
    "from torch.utils import data\n",
    "import numpy as np"
   ]
  },
  {
   "cell_type": "code",
   "execution_count": 33,
   "id": "velvet-vegetarian",
   "metadata": {},
   "outputs": [],
   "source": [
    "# 定义获取数据集的类\n",
    "# 该类继承基类Dataset,自定义一个数据集及对应标签\n",
    "class TestDataset(data.Dataset):# 继承Dataset\n",
    "    def __init__(self):\n",
    "        self.Data = np.asarray([[1,2],[3,4],[2,1],[3,4],[4,5]]) #一些由二维向量表示的数据集\n",
    "        #self.Label = np.asarray([0,1,0,1,2])#这是数据集对应的标签\n",
    "        self.Label=np.asarray([0,1,0,1,2])#这是数据集对应的标签\n",
    "    \n",
    "    def __getitem__(self, index):\n",
    "        #把numpy转换为Tensor\n",
    "        txt = torch.from_numpy(self.Data[index])     \n",
    "        label=torch.tensor(self.Label[index])\n",
    "        return txt,label \n",
    "    \n",
    "    def __len__(self):\n",
    "        return len(self.Data)"
   ]
  },
  {
   "cell_type": "code",
   "execution_count": 34,
   "id": "comparative-strength",
   "metadata": {},
   "outputs": [
    {
     "name": "stdout",
     "output_type": "stream",
     "text": [
      "(tensor([2, 1], dtype=torch.int32), tensor(0, dtype=torch.int32))\n",
      "5\n"
     ]
    }
   ],
   "source": [
    "Test = TestDataset()\n",
    "print(Test[2])\n",
    "print(Test.__len__())"
   ]
  },
  {
   "cell_type": "code",
   "execution_count": 36,
   "id": "vietnamese-trauma",
   "metadata": {},
   "outputs": [
    {
     "name": "stdout",
     "output_type": "stream",
     "text": [
      "i: 0\n",
      "data: tensor([[1, 2],\n",
      "        [3, 4]], dtype=torch.int32)\n",
      "Label: tensor([0, 1], dtype=torch.int32)\n",
      "i: 1\n",
      "data: tensor([[2, 1],\n",
      "        [3, 4]], dtype=torch.int32)\n",
      "Label: tensor([0, 1], dtype=torch.int32)\n",
      "i: 2\n",
      "data: tensor([[4, 5]], dtype=torch.int32)\n",
      "Label: tensor([2], dtype=torch.int32)\n"
     ]
    }
   ],
   "source": [
    "test_loader = data.DataLoader(Test,batch_size=2,shuffle=False,num_workers=0)\n",
    "for i,traindata in enumerate(test_loader):\n",
    "    print('i:',i)\n",
    "    Data,Label = traindata\n",
    "    print('data:',Data)\n",
    "    print('Label:',Label)"
   ]
  }
 ],
 "metadata": {
  "kernelspec": {
   "display_name": "Python 3",
   "language": "python",
   "name": "python3"
  },
  "language_info": {
   "codemirror_mode": {
    "name": "ipython",
    "version": 3
   },
   "file_extension": ".py",
   "mimetype": "text/x-python",
   "name": "python",
   "nbconvert_exporter": "python",
   "pygments_lexer": "ipython3",
   "version": "3.7.1"
  }
 },
 "nbformat": 4,
 "nbformat_minor": 5
}
