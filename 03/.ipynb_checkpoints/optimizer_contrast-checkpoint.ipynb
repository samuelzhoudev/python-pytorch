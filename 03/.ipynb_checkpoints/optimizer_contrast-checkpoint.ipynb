{
 "cells": [
  {
   "cell_type": "code",
   "execution_count": 4,
   "id": "fresh-debut",
   "metadata": {},
   "outputs": [],
   "source": [
    "import torch\n",
    "import torch.utils.data as Data\n",
    "import matplotlib.pyplot as plt\n",
    "%matplotlib inline\n",
    "\n",
    "#超参数\n",
    "LR = 0.01\n",
    "BATCH_SIZE = 32\n",
    "EPOCH = 12\n",
    "\n",
    "# 生成训练数据\n",
    "# torch.unsqueeze()的作用是将一维变成二维，torch只能处理二维数据\n",
    "x = torch.unsqueeze(torch.linspace(-1,1,1000), dim=1)\n",
    "# 0.1 * torch.normal(x.size())\n",
    "y = x.pow(2) + 0.1*torch.normal(torch.zeros(*x.size()))\n",
    "\n",
    "torch_dataset = Data.TensorDataset(x,y)\n",
    "#得到一个批量生成器\n",
    "loader = Data.DataLoader(dataset= torch_dataset, batch_size=BATCH_SIZE,shuffle=True)"
   ]
  },
  {
   "cell_type": "code",
   "execution_count": null,
   "id": "ceramic-pierre",
   "metadata": {},
   "outputs": [],
   "source": [
    "class Net(torch.nn.Moudle):\n",
    "    #初始化\n",
    "    def __init__(self):\n",
    "        super(Net, self)"
   ]
  }
 ],
 "metadata": {
  "kernelspec": {
   "display_name": "Python 3",
   "language": "python",
   "name": "python3"
  },
  "language_info": {
   "codemirror_mode": {
    "name": "ipython",
    "version": 3
   },
   "file_extension": ".py",
   "mimetype": "text/x-python",
   "name": "python",
   "nbconvert_exporter": "python",
   "pygments_lexer": "ipython3",
   "version": "3.7.1"
  }
 },
 "nbformat": 4,
 "nbformat_minor": 5
}
