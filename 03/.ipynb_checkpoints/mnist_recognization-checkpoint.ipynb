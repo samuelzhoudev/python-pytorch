{
 "cells": [
  {
   "cell_type": "code",
   "execution_count": 9,
   "id": "diagnostic-monster",
   "metadata": {},
   "outputs": [],
   "source": [
    "#导入必要的模块\n",
    "import numpy as np\n",
    "import torch\n",
    "#导入 PyTorch内置的mnist数据集\n",
    "from torchvision.datasets import mnist\n",
    "#导入预处理模块\n",
    "import torchvision.transforms as transforms\n",
    "from torch.utils.data import DataLoader\n",
    "#导入nn及优化器\n",
    "import torch.nn.functional as F\n",
    "import torch.optim as optim\n",
    "from torch import nn\n",
    "\n",
    "# 定义一些超参数\n",
    "train_batch_size = 64\n",
    "test_batch_size = 128\n",
    "learning_rate = 0.01\n",
    "num_epoches = 20\n",
    "lr = 0.01\n",
    "momentum = 0.9\n",
    "\n",
    "# 定义预处理函数，这些预处理依次放在Compose函数中\n",
    "# Normalize([0.5],[0.5]对张量进行归一化，这里两个0.5分别表示对张量进行归一化的全局平均值和方差。因图像使\n",
    "#灰色的只有一个通道，需要有多个数字，如3个通道，应该是Normalize([m1,m2,m3],[n1,n2,n3]))\n",
    "transform = transforms.Compose([transforms.ToTensor(), transforms.Normalize([0.5],[0.5])])\n",
    "#下载数据，并对数据进行预处理\n",
    "train_dataset = mnist.MNIST('./data',train=True, transform=transform, download=True)\n",
    "test_dataset = mnist.MNIST('./data', train=False, transform=transform)\n",
    "# dataloader是一个可迭代对象，可以使用迭代器一样使用\n",
    "train_loader = DataLoader(train_dataset, batch_size=train_batch_size, shuffle=True)\n",
    "test_loader = DataLoader(test_dataset, batch_size=test_batch_size, shuffle=False)"
   ]
  },
  {
   "cell_type": "code",
   "execution_count": 10,
   "id": "vertical-sperm",
   "metadata": {},
   "outputs": [
    {
     "data": {
      "image/png": "[encoded data removed]",
      "text/plain": [
       "<Figure size 432x288 with 6 Axes>"
      ]
     },
     "metadata": {},
     "output_type": "display_data"
    }
   ],
   "source": [
    "import matplotlib.pyplot as plt\n",
    "%matplotlib inline\n",
    "examples = enumerate(test_loader)\n",
    "batch_idx, (example_data, example_targets) = next(examples)\n",
    "\n",
    "fig = plt.figure()\n",
    "for i in range(6):\n",
    "    plt.subplot(2, 3, i+1)\n",
    "    plt.tight_layout()\n",
    "    plt.imshow(example_data[i][0], cmap='gray', interpolation='none')\n",
    "    plt.title(\"Ground Truth: {}\".format(example_targets[i]))\n",
    "    plt.xticks([])\n",
    "    plt.yticks([])"
   ]
  },
  {
   "cell_type": "code",
   "execution_count": 11,
   "id": "greatest-arkansas",
   "metadata": {},
   "outputs": [],
   "source": [
    "class Net(nn.Module):\n",
    "    \"\"\"\n",
    "    使用sequential构建网络，Sequential()函数的功能是将网络的层组合到一起\n",
    "    \"\"\"\n",
    "    def __init__(self, int_dim, n_hidden_1, n_hidden_2, out_dim):\n",
    "        super(Net, self).__init__()\n",
    "        self.layer1 = nn.Sequential(nn.Linear(int_dim, n_hidden_1), nn.BatchNorm1d(n_hidden_1))\n",
    "        self.layer2 = nn.Sequential(nn.Linear(n_hidden_1, n_hidden_2), nn.BatchNorm1d(n_hidden_2))\n",
    "        self.layer3 = nn.Sequential(nn.Linear(n_hidden_2,out_dim))\n",
    "        \n",
    "    def forward(self, x):\n",
    "        x = F.relu(self.layer1(x))\n",
    "        x = F.relu(self.layer2(x))\n",
    "        x = self.layer3(x)\n",
    "        return x"
   ]
  },
  {
   "cell_type": "code",
   "execution_count": 12,
   "id": "hollow-algorithm",
   "metadata": {},
   "outputs": [],
   "source": [
    "# 检测是否有可用的GPU,有则使用，否则使用CPU\n",
    "device = torch.device(\"cuda:0\" if torch.cuda.is_available() else \"cpu\")\n",
    "#实例化网络\n",
    "model = Net(28 * 28, 300, 100, 10)\n",
    "model.to(device)\n",
    "\n",
    "#定义损失函数和优化器\n",
    "criterion = nn.CrossEntropyLoss()\n",
    "optimizer = optim.SGD(model.parameters(), lr=lr, momentum=momentum)"
   ]
  },
  {
   "cell_type": "code",
   "execution_count": 13,
   "id": "private-scheme",
   "metadata": {},
   "outputs": [
    {
     "name": "stdout",
     "output_type": "stream",
     "text": [
      "epoch:0, Train loss:0.2232, Train acc:0.9373, Test loss:0.0919, Test Acc:0.9708\n",
      "epoch:1, Train loss:0.0870, Train acc:0.9734, Test loss:0.0762, Test Acc:0.9763\n",
      "epoch:2, Train loss:0.0575, Train acc:0.9827, Test loss:0.0689, Test Acc:0.9784\n",
      "epoch:3, Train loss:0.0443, Train acc:0.9862, Test loss:0.0605, Test Acc:0.9813\n",
      "epoch:4, Train loss:0.0339, Train acc:0.9894, Test loss:0.0641, Test Acc:0.9790\n",
      "epoch:5, Train loss:0.0263, Train acc:0.9922, Test loss:0.0578, Test Acc:0.9825\n",
      "epoch:6, Train loss:0.0193, Train acc:0.9944, Test loss:0.0578, Test Acc:0.9821\n",
      "epoch:7, Train loss:0.0174, Train acc:0.9951, Test loss:0.0576, Test Acc:0.9815\n",
      "epoch:8, Train loss:0.0134, Train acc:0.9963, Test loss:0.0614, Test Acc:0.9814\n",
      "epoch:9, Train loss:0.0112, Train acc:0.9970, Test loss:0.0573, Test Acc:0.9821\n",
      "epoch:10, Train loss:0.0092, Train acc:0.9977, Test loss:0.0545, Test Acc:0.9840\n",
      "epoch:11, Train loss:0.0075, Train acc:0.9980, Test loss:0.0571, Test Acc:0.9835\n",
      "epoch:12, Train loss:0.0069, Train acc:0.9981, Test loss:0.0566, Test Acc:0.9834\n",
      "epoch:13, Train loss:0.0060, Train acc:0.9986, Test loss:0.0569, Test Acc:0.9820\n",
      "epoch:14, Train loss:0.0056, Train acc:0.9988, Test loss:0.0550, Test Acc:0.9844\n",
      "epoch:15, Train loss:0.0044, Train acc:0.9990, Test loss:0.0543, Test Acc:0.9838\n",
      "epoch:16, Train loss:0.0047, Train acc:0.9988, Test loss:0.0559, Test Acc:0.9850\n",
      "epoch:17, Train loss:0.0039, Train acc:0.9993, Test loss:0.0527, Test Acc:0.9849\n",
      "epoch:18, Train loss:0.0031, Train acc:0.9996, Test loss:0.0572, Test Acc:0.9842\n",
      "epoch:19, Train loss:0.0035, Train acc:0.9993, Test loss:0.0559, Test Acc:0.9844\n"
     ]
    }
   ],
   "source": [
    "\n",
    "# 开始训练\n",
    "losses = []\n",
    "acces = []\n",
    "eval_losses = []\n",
    "eval_acces = []\n",
    "for epoch in range(num_epoches):\n",
    "    train_loss = 0\n",
    "    train_acc = 0\n",
    "    model.train()\n",
    "    #动态修改参数学习率\n",
    "    if epoch%5==0:\n",
    "        optimizer.param_groups[0]['lr']*=0.9\n",
    "    for img, label in train_loader:\n",
    "        img=img.to(device)\n",
    "        label = label.to(device)\n",
    "        img = img.view(img.size(0), -1)\n",
    "        #前向传播\n",
    "        out = model(img)\n",
    "        loss = criterion(out, label)\n",
    "        # 反向传播\n",
    "        optimizer.zero_grad()\n",
    "        loss.backward()\n",
    "        optimizer.step()\n",
    "        # 记录误差\n",
    "        train_loss += loss.item()\n",
    "        # 计算分类的准确率\n",
    "        _, pred = out.max(1)\n",
    "        num_correct = (pred == label).sum().item()\n",
    "        acc = num_correct / img.shape[0]\n",
    "        train_acc += acc\n",
    "        \n",
    "    losses.append(train_loss / len(train_loader))\n",
    "    acces.append(train_acc / len(train_loader))\n",
    "    # 在测试集上检验效果\n",
    "    eval_loss = 0\n",
    "    eval_acc = 0\n",
    "    # 将模型改为预测模式\n",
    "    model.eval()\n",
    "    for img, label in test_loader:\n",
    "        img=img.to(device)\n",
    "        label = label.to(device)\n",
    "        img = img.view(img.size(0), -1)\n",
    "        out = model(img)\n",
    "        loss = criterion(out, label)\n",
    "        #记录误差\n",
    "        eval_loss += loss.item()\n",
    "        # 记录准确率\n",
    "        _, pred = out.max(1)\n",
    "        num_correct = (pred == label).sum().item()\n",
    "        acc = num_correct / img.shape[0]\n",
    "        eval_acc += acc\n",
    "    eval_losses.append(eval_loss / len(test_loader))\n",
    "    eval_acces.append(eval_acc / len(test_loader))\n",
    "    print('epoch:{}, Train loss:{:.4f}, Train acc:{:.4f}, Test loss:{:.4f}, Test Acc:{:.4f}'\n",
    "         .format(epoch, train_loss / len(train_loader), train_acc / len(train_loader), eval_loss / len(test_loader), eval_acc / len(test_loader)))"
   ]
  },
  {
   "cell_type": "code",
   "execution_count": 14,
   "id": "macro-logic",
   "metadata": {},
   "outputs": [
    {
     "data": {
      "text/plain": [
       "<matplotlib.legend.Legend at 0x220812d0630>"
      ]
     },
     "execution_count": 14,
     "metadata": {},
     "output_type": "execute_result"
    },
    {
     "data": {
      "image/png": "[encoded data removed]",
      "text/plain": [
       "<Figure size 432x288 with 1 Axes>"
      ]
     },
     "metadata": {
      "needs_background": "light"
     },
     "output_type": "display_data"
    }
   ],
   "source": [
    "import matplotlib.pyplot as plt\n",
    "%matplotlib inline\n",
    "plt.title('trainloss')\n",
    "plt.plot(np.arange(len(losses)), losses)\n",
    "plt.legend(['Train loss'],loc='upper right')"
   ]
  }
 ],
 "metadata": {
  "kernelspec": {
   "display_name": "Python 3",
   "language": "python",
   "name": "python3"
  },
  "language_info": {
   "codemirror_mode": {
    "name": "ipython",
    "version": 3
   },
   "file_extension": ".py",
   "mimetype": "text/x-python",
   "name": "python",
   "nbconvert_exporter": "python",
   "pygments_lexer": "ipython3",
   "version": "3.7.1"
  }
 },
 "nbformat": 4,
 "nbformat_minor": 5
}
