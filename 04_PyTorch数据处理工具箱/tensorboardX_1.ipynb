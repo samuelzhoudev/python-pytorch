{
 "cells": [
  {
   "cell_type": "code",
   "execution_count": 8,
   "id": "9bc99f51",
   "metadata": {},
   "outputs": [],
   "source": [
    "import torch\n",
    "import torch.nn as nn\n",
    "import torch.nn.functional as F\n",
    "import torchvision\n",
    "from torch.utils.tensorboard import SummaryWriter"
   ]
  },
  {
   "cell_type": "code",
   "execution_count": 4,
   "id": "7bfc0698",
   "metadata": {},
   "outputs": [],
   "source": [
    "#可视化神经网络\n",
    "class Net(nn.Module):\n",
    "    def __init__(self):\n",
    "        super(Net, self).__init__()\n",
    "        self.conv1 = nn.Conv2d(1,10,kernel_size=5)\n",
    "        self.conv2 = nn.Conv2d(10,20,kernel_size=5)\n",
    "        self.conv2_drop = nn.Dropout2d()\n",
    "        self.fc1 = nn.Linear(320,50)\n",
    "        self.fc2 = nn.Linear(50, 10)\n",
    "        self.bn = nn.BatchNorm2d(20)\n",
    "        \n",
    "    def forward(self,x):\n",
    "        x = F.max_pool2d(self.conv1(x), 2)\n",
    "        x = F.relu(x) + F.relu(-x)\n",
    "        x = F.relu(F.max_pool2d(self.conv2_drop(self.conv2(x)),2))\n",
    "        x = self.bn(x)\n",
    "        x = x.view(-1, 320)\n",
    "        x = F.relu(self.fc1(x))\n",
    "        x = F.dropout(x,training=self.training)\n",
    "        x = self.fc2(x)\n",
    "        x = F.softmax(x, dim=1)\n",
    "        return x"
   ]
  },
  {
   "cell_type": "code",
   "execution_count": 5,
   "id": "5ed48380",
   "metadata": {},
   "outputs": [],
   "source": [
    "# 把模型保存起来\n",
    "#定义输入\n",
    "input = torch.rand(32,1,28,28)\n",
    "# 实例化神经网络\n",
    "model = Net()\n",
    "# 将model保存为graph\n",
    "with SummaryWriter(log_dir='logs', comment='Net') as w:\n",
    "    w.add_graph(model,(input,))"
   ]
  },
  {
   "cell_type": "code",
   "execution_count": 9,
   "id": "2865e598",
   "metadata": {},
   "outputs": [],
   "source": [
    "# 可视化损失值\n",
    "import numpy as np\n",
    "input_size = 1\n",
    "output_size = 1\n",
    "num_epoches = 60\n",
    "learning_rate = 0.01\n",
    "dtype = torch.FloatTensor\n",
    "writer = SummaryWriter(log_dir='logs',comment='Linear')\n",
    "np.random.seed(100)\n",
    "x_train = np.linspace(-1,1,100).reshape(100,1)\n",
    "y_train = 3*np.power(x_train,2)+2+0.2*np.random.rand(x_train.size).reshape(100,1)\n",
    "\n",
    "model = nn.Linear(input_size,output_size)\n",
    "\n",
    "criterion = nn.MSELoss()\n",
    "optimizer = torch.optim.SGD(model.parameters(), lr=learning_rate)\n",
    "\n",
    "for epoch in range(num_epoches):\n",
    "    inputs = torch.from_numpy(x_train).type(dtype)\n",
    "    targets = torch.from_numpy(y_train).type(dtype)\n",
    "    \n",
    "    output = model(inputs)\n",
    "    loss = criterion(output, targets)\n",
    "    \n",
    "    optimizer.zero_grad()\n",
    "    loss.backward()\n",
    "    optimizer.step()\n",
    "    # 保存loss的数据与epochs数值\n",
    "    writer.add_scalar('训练损失值',loss, epoch)"
   ]
  },
  {
   "cell_type": "code",
   "execution_count": null,
   "id": "fea4223b",
   "metadata": {},
   "outputs": [],
   "source": []
  }
 ],
 "metadata": {
  "kernelspec": {
   "display_name": "Python 3",
   "language": "python",
   "name": "python3"
  },
  "language_info": {
   "codemirror_mode": {
    "name": "ipython",
    "version": 3
   },
   "file_extension": ".py",
   "mimetype": "text/x-python",
   "name": "python",
   "nbconvert_exporter": "python",
   "pygments_lexer": "ipython3",
   "version": "3.7.10"
  }
 },
 "nbformat": 4,
 "nbformat_minor": 5
}
